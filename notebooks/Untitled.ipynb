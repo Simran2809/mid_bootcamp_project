{
 "cells": [
  {
   "cell_type": "code",
   "execution_count": 1,
   "id": "0a788895",
   "metadata": {},
   "outputs": [],
   "source": [
    "import pandas as pd"
   ]
  },
  {
   "cell_type": "code",
   "execution_count": 3,
   "id": "b4853eff",
   "metadata": {},
   "outputs": [
    {
     "data": {
      "text/html": [
       "<div>\n",
       "<style scoped>\n",
       "    .dataframe tbody tr th:only-of-type {\n",
       "        vertical-align: middle;\n",
       "    }\n",
       "\n",
       "    .dataframe tbody tr th {\n",
       "        vertical-align: top;\n",
       "    }\n",
       "\n",
       "    .dataframe thead th {\n",
       "        text-align: right;\n",
       "    }\n",
       "</style>\n",
       "<table border=\"1\" class=\"dataframe\">\n",
       "  <thead>\n",
       "    <tr style=\"text-align: right;\">\n",
       "      <th></th>\n",
       "      <th>code</th>\n",
       "      <th>name</th>\n",
       "      <th>description</th>\n",
       "      <th>refreshed_at</th>\n",
       "      <th>from_date</th>\n",
       "      <th>to_date</th>\n",
       "    </tr>\n",
       "  </thead>\n",
       "  <tbody>\n",
       "    <tr>\n",
       "      <th>0</th>\n",
       "      <td>BOM500002</td>\n",
       "      <td>ABB India Limited EOD Prices</td>\n",
       "      <td>End of Day prices and additional trading infor...</td>\n",
       "      <td>2023-07-07 14:07:34</td>\n",
       "      <td>1992-03-02</td>\n",
       "      <td>2023-07-07</td>\n",
       "    </tr>\n",
       "    <tr>\n",
       "      <th>1</th>\n",
       "      <td>BOM500003</td>\n",
       "      <td>AEGIS LOGISTICS LTD. EOD Prices</td>\n",
       "      <td>End of Day prices and additional trading infor...</td>\n",
       "      <td>2023-07-07 14:07:34</td>\n",
       "      <td>1992-03-02</td>\n",
       "      <td>2023-07-07</td>\n",
       "    </tr>\n",
       "    <tr>\n",
       "      <th>2</th>\n",
       "      <td>BOM500008</td>\n",
       "      <td>AMARA RAJA BATTERIES LTD. EOD Prices</td>\n",
       "      <td>End of Day prices and additional trading infor...</td>\n",
       "      <td>2023-07-07 14:07:34</td>\n",
       "      <td>1992-03-02</td>\n",
       "      <td>2023-07-07</td>\n",
       "    </tr>\n",
       "    <tr>\n",
       "      <th>3</th>\n",
       "      <td>BOM500009</td>\n",
       "      <td>AMBALAL SARABHAI ENTERPRISES LTD. EOD Prices</td>\n",
       "      <td>End of Day prices and additional trading infor...</td>\n",
       "      <td>2023-07-07 14:07:34</td>\n",
       "      <td>1992-03-02</td>\n",
       "      <td>2023-07-07</td>\n",
       "    </tr>\n",
       "    <tr>\n",
       "      <th>4</th>\n",
       "      <td>BOM500010</td>\n",
       "      <td>HOUSING DEVELOPMENT FINANCE CORP.LTD. EOD Prices</td>\n",
       "      <td>End of Day prices and additional trading infor...</td>\n",
       "      <td>2023-07-07 14:07:34</td>\n",
       "      <td>1992-01-03</td>\n",
       "      <td>2023-07-07</td>\n",
       "    </tr>\n",
       "  </tbody>\n",
       "</table>\n",
       "</div>"
      ],
      "text/plain": [
       "        code                                              name  \\\n",
       "0  BOM500002                      ABB India Limited EOD Prices   \n",
       "1  BOM500003                   AEGIS LOGISTICS LTD. EOD Prices   \n",
       "2  BOM500008              AMARA RAJA BATTERIES LTD. EOD Prices   \n",
       "3  BOM500009      AMBALAL SARABHAI ENTERPRISES LTD. EOD Prices   \n",
       "4  BOM500010  HOUSING DEVELOPMENT FINANCE CORP.LTD. EOD Prices   \n",
       "\n",
       "                                         description         refreshed_at  \\\n",
       "0  End of Day prices and additional trading infor...  2023-07-07 14:07:34   \n",
       "1  End of Day prices and additional trading infor...  2023-07-07 14:07:34   \n",
       "2  End of Day prices and additional trading infor...  2023-07-07 14:07:34   \n",
       "3  End of Day prices and additional trading infor...  2023-07-07 14:07:34   \n",
       "4  End of Day prices and additional trading infor...  2023-07-07 14:07:34   \n",
       "\n",
       "    from_date     to_date  \n",
       "0  1992-03-02  2023-07-07  \n",
       "1  1992-03-02  2023-07-07  \n",
       "2  1992-03-02  2023-07-07  \n",
       "3  1992-03-02  2023-07-07  \n",
       "4  1992-01-03  2023-07-07  "
      ]
     },
     "execution_count": 3,
     "metadata": {},
     "output_type": "execute_result"
    }
   ],
   "source": [
    "data = pd.read_csv(\"../data/raw/BSE_metadata.csv\")\n",
    "data.head()"
   ]
  },
  {
   "cell_type": "code",
   "execution_count": null,
   "id": "379924c7",
   "metadata": {},
   "outputs": [],
   "source": []
  }
 ],
 "metadata": {
  "kernelspec": {
   "display_name": "mid_bootcamp_env",
   "language": "python",
   "name": "mid_bootcamp_env"
  },
  "language_info": {
   "codemirror_mode": {
    "name": "ipython",
    "version": 3
   },
   "file_extension": ".py",
   "mimetype": "text/x-python",
   "name": "python",
   "nbconvert_exporter": "python",
   "pygments_lexer": "ipython3",
   "version": "3.10.9"
  }
 },
 "nbformat": 4,
 "nbformat_minor": 5
}
